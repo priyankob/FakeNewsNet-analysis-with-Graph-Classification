{
 "cells": [
  {
   "cell_type": "code",
   "execution_count": 42,
   "metadata": {},
   "outputs": [],
   "source": [
    "from load_dataset import load_dataset"
   ]
  },
  {
   "cell_type": "code",
   "execution_count": 43,
   "metadata": {},
   "outputs": [],
   "source": [
    "import numpy as np\n",
    "import dgl\n",
    "from dgl.data import DGLDataset\n",
    "import torch\n",
    "from sklearn.model_selection import train_test_split"
   ]
  },
  {
   "cell_type": "code",
   "execution_count": 44,
   "metadata": {},
   "outputs": [],
   "source": [
    "f, r = load_dataset('data/nx_network_data','gossipcop')"
   ]
  },
  {
   "cell_type": "code",
   "execution_count": 45,
   "metadata": {},
   "outputs": [],
   "source": [
    "target_labels = np.concatenate([np.ones(len(f)), np.zeros(len(r))], axis=0)"
   ]
  },
  {
   "cell_type": "code",
   "execution_count": 46,
   "metadata": {},
   "outputs": [
    {
     "data": {
      "text/plain": [
       "10629"
      ]
     },
     "execution_count": 46,
     "metadata": {},
     "output_type": "execute_result"
    }
   ],
   "source": [
    "len(target_labels)"
   ]
  },
  {
   "cell_type": "code",
   "execution_count": 47,
   "metadata": {},
   "outputs": [],
   "source": [
    "f_arr = np.array(f,dtype=object)"
   ]
  },
  {
   "cell_type": "code",
   "execution_count": 48,
   "metadata": {},
   "outputs": [
    {
     "data": {
      "text/plain": [
       "3684"
      ]
     },
     "execution_count": 48,
     "metadata": {},
     "output_type": "execute_result"
    }
   ],
   "source": [
    "len(f_arr)"
   ]
  },
  {
   "cell_type": "code",
   "execution_count": 49,
   "metadata": {},
   "outputs": [],
   "source": [
    "r_arr = np.array(r,dtype=object)"
   ]
  },
  {
   "cell_type": "code",
   "execution_count": 50,
   "metadata": {},
   "outputs": [
    {
     "data": {
      "text/plain": [
       "6945"
      ]
     },
     "execution_count": 50,
     "metadata": {},
     "output_type": "execute_result"
    }
   ],
   "source": [
    "len(r_arr)"
   ]
  },
  {
   "cell_type": "code",
   "execution_count": 51,
   "metadata": {},
   "outputs": [],
   "source": [
    "dataset = np.concatenate((f_arr, r_arr), axis=0)"
   ]
  },
  {
   "cell_type": "code",
   "execution_count": 52,
   "metadata": {},
   "outputs": [
    {
     "data": {
      "text/plain": [
       "array([<networkx.classes.digraph.DiGraph object at 0x0000020C1738F250>,\n",
       "       <networkx.classes.digraph.DiGraph object at 0x0000020C1738FC40>,\n",
       "       <networkx.classes.digraph.DiGraph object at 0x0000020C17FAEE80>,\n",
       "       ...,\n",
       "       <networkx.classes.digraph.DiGraph object at 0x0000020D8F211AC0>,\n",
       "       <networkx.classes.digraph.DiGraph object at 0x0000020D8F211EE0>,\n",
       "       <networkx.classes.digraph.DiGraph object at 0x0000020D8F229BE0>],\n",
       "      dtype=object)"
      ]
     },
     "execution_count": 52,
     "metadata": {},
     "output_type": "execute_result"
    }
   ],
   "source": [
    "dataset"
   ]
  },
  {
   "cell_type": "code",
   "execution_count": 53,
   "metadata": {},
   "outputs": [],
   "source": [
    "X_train, X_test, y_train, y_test = train_test_split(dataset, target_labels, stratify=target_labels,\n",
    "                                                        test_size=0.2, random_state=42)"
   ]
  },
  {
   "cell_type": "code",
   "execution_count": 54,
   "metadata": {},
   "outputs": [],
   "source": [
    "\n",
    "class FakeNewsDataset(DGLDataset):\n",
    "    def __init__(self,data,targets):\n",
    "        self.data = data\n",
    "        self.targets = targets\n",
    "        super().__init__(name='fakenews')\n",
    "\n",
    "\n",
    "    def process(self):\n",
    "        #edges = pd.read_csv('./graph_edges.csv')\n",
    "        #properties = pd.read_csv('./graph_properties.csv')\n",
    "        self.graphs = []\n",
    "        self.labels = []\n",
    "\n",
    "        for n,target in zip(self.data,self.targets):\n",
    "        \n",
    "            g = dgl.from_networkx(n)\n",
    "            g = dgl.add_self_loop(g)\n",
    "            self.graphs.append(g)\n",
    "            self.labels.append(target)\n",
    "            \n",
    "\n",
    "        # Convert the label list to tensor for saving.\n",
    "        self.labels = torch.LongTensor(self.labels)\n",
    "\n",
    "    def __getitem__(self, i):\n",
    "        return self.graphs[i], self.labels[i]\n",
    "\n",
    "    def __len__(self):\n",
    "        return len(self.graphs)\n"
   ]
  },
  {
   "cell_type": "code",
   "execution_count": 55,
   "metadata": {},
   "outputs": [
    {
     "name": "stderr",
     "output_type": "stream",
     "text": [
      "<ipython-input-54-bbc44c93485a>:23: DeprecationWarning: an integer is required (got type numpy.float64).  Implicit conversion to integers using __int__ is deprecated, and may be removed in a future version of Python.\n",
      "  self.labels = torch.LongTensor(self.labels)\n"
     ]
    }
   ],
   "source": [
    "X_train_dataset = FakeNewsDataset(X_train,y_train)"
   ]
  },
  {
   "cell_type": "code",
   "execution_count": 56,
   "metadata": {},
   "outputs": [
    {
     "name": "stdout",
     "output_type": "stream",
     "text": [
      "Graph(num_nodes=91, num_edges=181,\n",
      "      ndata_schemes={}\n",
      "      edata_schemes={}) tensor(0)\n"
     ]
    }
   ],
   "source": [
    "graph, label = X_train_dataset[0]\n",
    "print(graph, label)"
   ]
  },
  {
   "cell_type": "code",
   "execution_count": 57,
   "metadata": {},
   "outputs": [],
   "source": [
    "from dgl.nn.pytorch import GraphConv"
   ]
  },
  {
   "cell_type": "code",
   "execution_count": 58,
   "metadata": {},
   "outputs": [],
   "source": [
    "import torch.nn as nn\n",
    "import torch.nn.functional as F\n",
    "\n",
    "class Classifier(nn.Module):\n",
    "    def __init__(self, in_dim, hidden_dim, n_classes):\n",
    "        super(Classifier, self).__init__()\n",
    "        self.conv1 = GraphConv(in_dim, hidden_dim)\n",
    "        self.conv2 = GraphConv(hidden_dim, hidden_dim)\n",
    "        self.classify = nn.Linear(hidden_dim, n_classes)\n",
    "\n",
    "    def forward(self, g):\n",
    "        # Use node degree as the initial node feature. For undirected graphs, the in-degree\n",
    "        # is the same as the out_degree.\n",
    "        h = torch.tensor([1]).view(-1, 1)##g.in_degrees().view(-1, 1).float()\n",
    "        # Perform graph convolution and activation function.\n",
    "        h = F.relu(self.conv1(g, h))\n",
    "        h = F.relu(self.conv2(g, h))\n",
    "        g.ndata['h'] = h\n",
    "        # Calculate graph representation by averaging all the node representations.\n",
    "        hg = dgl.mean_nodes(g, 'h')\n",
    "        return self.classify(hg)"
   ]
  },
  {
   "cell_type": "code",
   "execution_count": 59,
   "metadata": {},
   "outputs": [],
   "source": [
    "import torch.optim as optim\n",
    "from dgl.dataloading import GraphDataLoader\n",
    "data_loader = GraphDataLoader(X_train_dataset, batch_size=64, shuffle=True)"
   ]
  },
  {
   "cell_type": "code",
   "execution_count": 60,
   "metadata": {},
   "outputs": [
    {
     "data": {
      "text/plain": [
       "Classifier(\n",
       "  (conv1): GraphConv(in=1, out=64, normalization=both, activation=None)\n",
       "  (conv2): GraphConv(in=64, out=64, normalization=both, activation=None)\n",
       "  (classify): Linear(in_features=64, out_features=2, bias=True)\n",
       ")"
      ]
     },
     "execution_count": 60,
     "metadata": {},
     "output_type": "execute_result"
    }
   ],
   "source": [
    "model = Classifier(1, 64, 2)\n",
    "loss_func = nn.CrossEntropyLoss()\n",
    "optimizer = optim.Adam(model.parameters(), lr=0.001)\n",
    "model.train()"
   ]
  },
  {
   "cell_type": "code",
   "execution_count": 61,
   "metadata": {
    "scrolled": true
   },
   "outputs": [
    {
     "name": "stdout",
     "output_type": "stream",
     "text": [
      "Epoch 0, loss 0.6570\n",
      "Epoch 1, loss 0.6472\n",
      "Epoch 2, loss 0.6224\n",
      "Epoch 3, loss 0.5681\n",
      "Epoch 4, loss 0.5100\n",
      "Epoch 5, loss 0.4739\n",
      "Epoch 6, loss 0.4582\n",
      "Epoch 7, loss 0.4496\n",
      "Epoch 8, loss 0.4475\n",
      "Epoch 9, loss 0.4445\n",
      "Epoch 10, loss 0.4424\n",
      "Epoch 11, loss 0.4434\n",
      "Epoch 12, loss 0.4426\n",
      "Epoch 13, loss 0.4435\n",
      "Epoch 14, loss 0.4415\n",
      "Epoch 15, loss 0.4406\n",
      "Epoch 16, loss 0.4398\n",
      "Epoch 17, loss 0.4403\n",
      "Epoch 18, loss 0.4402\n",
      "Epoch 19, loss 0.4402\n",
      "Epoch 20, loss 0.4399\n",
      "Epoch 21, loss 0.4398\n",
      "Epoch 22, loss 0.4390\n",
      "Epoch 23, loss 0.4386\n",
      "Epoch 24, loss 0.4385\n",
      "Epoch 25, loss 0.4389\n",
      "Epoch 26, loss 0.4391\n",
      "Epoch 27, loss 0.4385\n",
      "Epoch 28, loss 0.4392\n",
      "Epoch 29, loss 0.4375\n",
      "Epoch 30, loss 0.4378\n",
      "Epoch 31, loss 0.4371\n",
      "Epoch 32, loss 0.4387\n",
      "Epoch 33, loss 0.4371\n",
      "Epoch 34, loss 0.4362\n",
      "Epoch 35, loss 0.4358\n",
      "Epoch 36, loss 0.4367\n",
      "Epoch 37, loss 0.4365\n",
      "Epoch 38, loss 0.4356\n",
      "Epoch 39, loss 0.4360\n",
      "Epoch 40, loss 0.4354\n",
      "Epoch 41, loss 0.4371\n",
      "Epoch 42, loss 0.4354\n",
      "Epoch 43, loss 0.4357\n",
      "Epoch 44, loss 0.4338\n",
      "Epoch 45, loss 0.4348\n",
      "Epoch 46, loss 0.4336\n",
      "Epoch 47, loss 0.4348\n",
      "Epoch 48, loss 0.4333\n",
      "Epoch 49, loss 0.4346\n",
      "Epoch 50, loss 0.4342\n",
      "Epoch 51, loss 0.4320\n",
      "Epoch 52, loss 0.4318\n",
      "Epoch 53, loss 0.4328\n",
      "Epoch 54, loss 0.4324\n",
      "Epoch 55, loss 0.4334\n",
      "Epoch 56, loss 0.4311\n",
      "Epoch 57, loss 0.4308\n",
      "Epoch 58, loss 0.4328\n",
      "Epoch 59, loss 0.4288\n",
      "Epoch 60, loss 0.4297\n",
      "Epoch 61, loss 0.4298\n",
      "Epoch 62, loss 0.4286\n",
      "Epoch 63, loss 0.4304\n",
      "Epoch 64, loss 0.4282\n",
      "Epoch 65, loss 0.4306\n",
      "Epoch 66, loss 0.4271\n",
      "Epoch 67, loss 0.4264\n",
      "Epoch 68, loss 0.4258\n",
      "Epoch 69, loss 0.4251\n",
      "Epoch 70, loss 0.4252\n",
      "Epoch 71, loss 0.4232\n",
      "Epoch 72, loss 0.4255\n",
      "Epoch 73, loss 0.4243\n",
      "Epoch 74, loss 0.4227\n",
      "Epoch 75, loss 0.4230\n",
      "Epoch 76, loss 0.4229\n",
      "Epoch 77, loss 0.4233\n",
      "Epoch 78, loss 0.4206\n",
      "Epoch 79, loss 0.4220\n",
      "Epoch 80, loss 0.4224\n",
      "Epoch 81, loss 0.4197\n",
      "Epoch 82, loss 0.4192\n",
      "Epoch 83, loss 0.4211\n",
      "Epoch 84, loss 0.4213\n",
      "Epoch 85, loss 0.4192\n",
      "Epoch 86, loss 0.4183\n",
      "Epoch 87, loss 0.4186\n",
      "Epoch 88, loss 0.4172\n",
      "Epoch 89, loss 0.4187\n",
      "Epoch 90, loss 0.4172\n",
      "Epoch 91, loss 0.4185\n",
      "Epoch 92, loss 0.4140\n",
      "Epoch 93, loss 0.4138\n",
      "Epoch 94, loss 0.4128\n",
      "Epoch 95, loss 0.4140\n",
      "Epoch 96, loss 0.4151\n",
      "Epoch 97, loss 0.4116\n",
      "Epoch 98, loss 0.4129\n",
      "Epoch 99, loss 0.4113\n"
     ]
    }
   ],
   "source": [
    "epoch_losses = []\n",
    "for epoch in range(100):\n",
    "    epoch_loss = 0\n",
    "    for iter, (bg, label) in enumerate(data_loader):\n",
    "        prediction = model(bg)\n",
    "        loss = loss_func(prediction, label)\n",
    "        optimizer.zero_grad()\n",
    "        loss.backward()\n",
    "        optimizer.step()\n",
    "        epoch_loss += loss.detach().item()\n",
    "    epoch_loss /= (iter + 1)\n",
    "    print('Epoch {}, loss {:.4f}'.format(epoch, epoch_loss))\n",
    "    epoch_losses.append(epoch_loss)"
   ]
  },
  {
   "cell_type": "code",
   "execution_count": 62,
   "metadata": {},
   "outputs": [
    {
     "name": "stderr",
     "output_type": "stream",
     "text": [
      "<ipython-input-54-bbc44c93485a>:23: DeprecationWarning: an integer is required (got type numpy.float64).  Implicit conversion to integers using __int__ is deprecated, and may be removed in a future version of Python.\n",
      "  self.labels = torch.LongTensor(self.labels)\n"
     ]
    }
   ],
   "source": [
    "X_test_dataset = FakeNewsDataset(X_test,y_test)"
   ]
  },
  {
   "cell_type": "code",
   "execution_count": 63,
   "metadata": {},
   "outputs": [
    {
     "name": "stdout",
     "output_type": "stream",
     "text": [
      "Accuracy of sampled predictions on the test set: 74.7413%\n",
      "Accuracy of argmax predictions on the test set: 80.103481%\n"
     ]
    }
   ],
   "source": [
    "model.eval()\n",
    "# Convert a list of tuples to two lists\n",
    "test_X, test_Y = map(list, zip(*X_test_dataset))\n",
    "test_bg = dgl.batch(test_X)\n",
    "test_Y = torch.tensor(test_Y).float().view(-1, 1)\n",
    "probs_Y = torch.softmax(model(test_bg), 1)\n",
    "sampled_Y = torch.multinomial(probs_Y, 1)\n",
    "argmax_Y = torch.max(probs_Y, 1)[1].view(-1, 1)\n",
    "print('Accuracy of sampled predictions on the test set: {:.4f}%'.format(\n",
    "    (test_Y == sampled_Y.float()).sum().item() / len(test_Y) * 100))\n",
    "print('Accuracy of argmax predictions on the test set: {:4f}%'.format(\n",
    "    (test_Y == argmax_Y.float()).sum().item() / len(test_Y) * 100))"
   ]
  },
  {
   "cell_type": "code",
   "execution_count": null,
   "metadata": {},
   "outputs": [],
   "source": []
  }
 ],
 "metadata": {
  "kernelspec": {
   "display_name": "Python 3",
   "language": "python",
   "name": "python3"
  },
  "language_info": {
   "codemirror_mode": {
    "name": "ipython",
    "version": 3
   },
   "file_extension": ".py",
   "mimetype": "text/x-python",
   "name": "python",
   "nbconvert_exporter": "python",
   "pygments_lexer": "ipython3",
   "version": "3.8.5"
  }
 },
 "nbformat": 4,
 "nbformat_minor": 4
}
