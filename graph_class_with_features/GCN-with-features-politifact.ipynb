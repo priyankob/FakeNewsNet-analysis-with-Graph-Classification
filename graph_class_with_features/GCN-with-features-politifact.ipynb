{
 "cells": [
  {
   "cell_type": "code",
   "execution_count": 1,
   "metadata": {},
   "outputs": [],
   "source": [
    "from data_loader import *\n",
    "dataset = FNNDataset(root='data', feature='profile', empty=False, name='politifact', transform=ToUndirected())"
   ]
  },
  {
   "cell_type": "code",
   "execution_count": 2,
   "metadata": {},
   "outputs": [
    {
     "data": {
      "text/plain": [
       "politifact(314)"
      ]
     },
     "execution_count": 2,
     "metadata": {},
     "output_type": "execute_result"
    }
   ],
   "source": [
    "dataset"
   ]
  },
  {
   "cell_type": "code",
   "execution_count": 3,
   "metadata": {},
   "outputs": [
    {
     "name": "stdout",
     "output_type": "stream",
     "text": [
      "\n",
      "Dataset: politifact(314):\n",
      "====================\n",
      "Number of graphs: 314\n",
      "Number of features: 10\n",
      "Number of classes: 2\n",
      "\n",
      "Data(edge_index=[2, 1489], x=[497, 10], y=[1])\n",
      "=============================================================\n",
      "Number of nodes: 497\n",
      "Number of edges: 1489\n",
      "Average node degree: 3.00\n",
      "Has isolated nodes: False\n",
      "Has self-loops: True\n",
      "Is undirected: True\n"
     ]
    }
   ],
   "source": [
    "print()\n",
    "print(f'Dataset: {dataset}:')\n",
    "print('====================')\n",
    "print(f'Number of graphs: {len(dataset)}')\n",
    "print(f'Number of features: {dataset.num_features}')\n",
    "print(f'Number of classes: {dataset.num_classes}')\n",
    "\n",
    "data = dataset[0]  # Get the first graph object.\n",
    "\n",
    "print()\n",
    "print(data)\n",
    "print('=============================================================')\n",
    "\n",
    "# Gather some statistics about the first graph.\n",
    "print(f'Number of nodes: {data.num_nodes}')\n",
    "print(f'Number of edges: {data.num_edges}')\n",
    "print(f'Average node degree: {data.num_edges / data.num_nodes:.2f}')\n",
    "print(f'Has isolated nodes: {data.has_isolated_nodes()}')\n",
    "print(f'Has self-loops: {data.has_self_loops()}')\n",
    "print(f'Is undirected: {data.is_undirected()}')"
   ]
  },
  {
   "cell_type": "code",
   "execution_count": 4,
   "metadata": {},
   "outputs": [
    {
     "name": "stdout",
     "output_type": "stream",
     "text": [
      "Number of training graphs: 250\n",
      "Number of test graphs: 64\n"
     ]
    }
   ],
   "source": [
    "torch.manual_seed(5008)\n",
    "dataset = dataset.shuffle()\n",
    "\n",
    "train_dataset = dataset[:250]\n",
    "test_dataset = dataset[250:]\n",
    "\n",
    "print(f'Number of training graphs: {len(train_dataset)}')\n",
    "print(f'Number of test graphs: {len(test_dataset)}')"
   ]
  },
  {
   "cell_type": "code",
   "execution_count": 5,
   "metadata": {},
   "outputs": [
    {
     "name": "stdout",
     "output_type": "stream",
     "text": [
      "Step 1:\n",
      "=======\n",
      "Number of graphs in the current batch: 64\n",
      "Batch(edge_index=[2, 25987], x=[8705, 10], y=[64], batch=[8705], ptr=[65])\n",
      "\n",
      "Step 2:\n",
      "=======\n",
      "Number of graphs in the current batch: 64\n",
      "Batch(edge_index=[2, 26722], x=[8950, 10], y=[64], batch=[8950], ptr=[65])\n",
      "\n",
      "Step 3:\n",
      "=======\n",
      "Number of graphs in the current batch: 64\n",
      "Batch(edge_index=[2, 25468], x=[8532, 10], y=[64], batch=[8532], ptr=[65])\n",
      "\n",
      "Step 4:\n",
      "=======\n",
      "Number of graphs in the current batch: 58\n",
      "Batch(edge_index=[2, 21913], x=[7343, 10], y=[58], batch=[7343], ptr=[59])\n",
      "\n"
     ]
    }
   ],
   "source": [
    "from torch_geometric.loader import DataLoader\n",
    "\n",
    "train_loader = DataLoader(train_dataset, batch_size=64, shuffle=True)\n",
    "test_loader = DataLoader(test_dataset, batch_size=64, shuffle=False)\n",
    "\n",
    "for step, data in enumerate(train_loader):\n",
    "    print(f'Step {step + 1}:')\n",
    "    print('=======')\n",
    "    print(f'Number of graphs in the current batch: {data.num_graphs}')\n",
    "    print(data)\n",
    "    print()"
   ]
  },
  {
   "cell_type": "code",
   "execution_count": 6,
   "metadata": {},
   "outputs": [
    {
     "name": "stdout",
     "output_type": "stream",
     "text": [
      "GCN(\n",
      "  (conv1): GCNConv(10, 64)\n",
      "  (conv2): GCNConv(64, 64)\n",
      "  (conv3): GCNConv(64, 64)\n",
      "  (lin): Linear(in_features=64, out_features=2, bias=True)\n",
      ")\n"
     ]
    }
   ],
   "source": [
    "from torch.nn import Linear\n",
    "import torch.nn.functional as F\n",
    "from torch_geometric.nn import GCNConv\n",
    "from torch_geometric.nn import global_mean_pool\n",
    "\n",
    "\n",
    "class GCN(torch.nn.Module):\n",
    "    def __init__(self, hidden_channels):\n",
    "        super(GCN, self).__init__()\n",
    "        torch.manual_seed(5008)\n",
    "        self.conv1 = GCNConv(dataset.num_node_features, hidden_channels)\n",
    "        self.conv2 = GCNConv(hidden_channels, hidden_channels)\n",
    "        self.conv3 = GCNConv(hidden_channels, hidden_channels)\n",
    "        self.lin = Linear(hidden_channels, dataset.num_classes)\n",
    "\n",
    "    def forward(self, x, edge_index, batch):\n",
    "        # 1. Obtain node embeddings \n",
    "        x = self.conv1(x, edge_index)\n",
    "        x = x.relu()\n",
    "        x = self.conv2(x, edge_index)\n",
    "        x = x.relu()\n",
    "        x = self.conv3(x, edge_index)\n",
    "        \n",
    "        # 2. Readout layer\n",
    "        x = global_mean_pool(x, batch)  # [batch_size, hidden_channels]\n",
    "\n",
    "        # 3. Apply a final classifier\n",
    "        x = F.dropout(x, p=0.5, training=self.training)\n",
    "        x = self.lin(x)\n",
    "        emb = x \n",
    "        return emb,x\n",
    "\n",
    "model = GCN(hidden_channels=64)\n",
    "print(model)"
   ]
  },
  {
   "cell_type": "code",
   "execution_count": 7,
   "metadata": {},
   "outputs": [
    {
     "name": "stdout",
     "output_type": "stream",
     "text": [
      "Epoch: 001, Train Acc: 0.5960\n",
      "Epoch: 002, Train Acc: 0.7080\n",
      "Epoch: 003, Train Acc: 0.7840\n",
      "Epoch: 004, Train Acc: 0.7960\n",
      "Epoch: 005, Train Acc: 0.7920\n",
      "Epoch: 006, Train Acc: 0.7880\n",
      "Epoch: 007, Train Acc: 0.7760\n",
      "Epoch: 008, Train Acc: 0.7960\n",
      "Epoch: 009, Train Acc: 0.7840\n",
      "Epoch: 010, Train Acc: 0.7920\n",
      "Epoch: 011, Train Acc: 0.7920\n",
      "Epoch: 012, Train Acc: 0.8080\n",
      "Epoch: 013, Train Acc: 0.8080\n",
      "Epoch: 014, Train Acc: 0.7960\n",
      "Epoch: 015, Train Acc: 0.8080\n",
      "Epoch: 016, Train Acc: 0.8120\n",
      "Epoch: 017, Train Acc: 0.8040\n",
      "Epoch: 018, Train Acc: 0.8000\n",
      "Epoch: 019, Train Acc: 0.8000\n",
      "Epoch: 020, Train Acc: 0.8000\n",
      "Epoch: 021, Train Acc: 0.8000\n",
      "Epoch: 022, Train Acc: 0.8000\n",
      "Epoch: 023, Train Acc: 0.8080\n",
      "Epoch: 024, Train Acc: 0.8000\n",
      "Epoch: 025, Train Acc: 0.8280\n",
      "Epoch: 026, Train Acc: 0.8120\n",
      "Epoch: 027, Train Acc: 0.8120\n",
      "Epoch: 028, Train Acc: 0.8160\n",
      "Epoch: 029, Train Acc: 0.8120\n",
      "Epoch: 030, Train Acc: 0.8200\n",
      "Epoch: 031, Train Acc: 0.8160\n",
      "Epoch: 032, Train Acc: 0.8240\n",
      "Epoch: 033, Train Acc: 0.8240\n",
      "Epoch: 034, Train Acc: 0.8200\n",
      "Epoch: 035, Train Acc: 0.8200\n",
      "Epoch: 036, Train Acc: 0.8160\n",
      "Epoch: 037, Train Acc: 0.8240\n",
      "Epoch: 038, Train Acc: 0.8280\n",
      "Epoch: 039, Train Acc: 0.8320\n",
      "Epoch: 040, Train Acc: 0.8280\n",
      "Epoch: 041, Train Acc: 0.8320\n",
      "Epoch: 042, Train Acc: 0.8400\n",
      "Epoch: 043, Train Acc: 0.8240\n",
      "Epoch: 044, Train Acc: 0.8400\n",
      "Epoch: 045, Train Acc: 0.8360\n",
      "Epoch: 046, Train Acc: 0.8400\n",
      "Epoch: 047, Train Acc: 0.8400\n",
      "Epoch: 048, Train Acc: 0.8440\n",
      "Epoch: 049, Train Acc: 0.8560\n",
      "Epoch: 050, Train Acc: 0.8440\n",
      "Epoch: 051, Train Acc: 0.8600\n",
      "Epoch: 052, Train Acc: 0.8440\n",
      "Epoch: 053, Train Acc: 0.8320\n",
      "Epoch: 054, Train Acc: 0.8640\n",
      "Epoch: 055, Train Acc: 0.8640\n",
      "Epoch: 056, Train Acc: 0.8600\n",
      "Epoch: 057, Train Acc: 0.8520\n",
      "Epoch: 058, Train Acc: 0.8640\n",
      "Epoch: 059, Train Acc: 0.8760\n",
      "Epoch: 060, Train Acc: 0.8720\n"
     ]
    }
   ],
   "source": [
    "##from IPython.display import Javascript\n",
    "##display(Javascript('''google.colab.output.setIframeHeight(0, true, {maxHeight: 300})'''))\n",
    "\n",
    "model = GCN(hidden_channels=64)\n",
    "optimizer = torch.optim.Adam(model.parameters(), lr=0.01)\n",
    "criterion = torch.nn.CrossEntropyLoss()\n",
    "\n",
    "def train():\n",
    "    model.train()\n",
    "\n",
    "    for data in train_loader:  # Iterate in batches over the training dataset.\n",
    "         emb, out = model(data.x, data.edge_index, data.batch)  # Perform a single forward pass.\n",
    "         loss = criterion(out, data.y)  # Compute the loss.\n",
    "         loss.backward()  # Derive gradients.\n",
    "         optimizer.step()  # Update parameters based on gradients.\n",
    "         optimizer.zero_grad()  # Clear gradients.\n",
    "\n",
    "def test(loader):\n",
    "     model.eval()\n",
    "\n",
    "     correct = 0\n",
    "     for data in loader:  # Iterate in batches over the training/test dataset.\n",
    "         emb , out = model(data.x, data.edge_index, data.batch)  \n",
    "         pred = out.argmax(dim=1)  # Use the class with highest probability.\n",
    "         correct += int((pred == data.y).sum())  # Check against ground-truth labels.\n",
    "     return correct / len(loader.dataset)  # Derive ratio of correct predictions.\n",
    "\n",
    "\n",
    "for epoch in range(1, 61):\n",
    "    train()\n",
    "    train_acc = test(train_loader)\n",
    "    #test_acc = test(test_loader)\n",
    "    print(f'Epoch: {epoch:03d}, Train Acc: {train_acc:.4f}')##', Test Acc: {test_acc:.4f}')\n",
    "test_acc = test(test_loader)"
   ]
  },
  {
   "cell_type": "code",
   "execution_count": 8,
   "metadata": {},
   "outputs": [
    {
     "data": {
      "text/plain": [
       "<matplotlib.collections.PathCollection at 0x1ef93e17880>"
      ]
     },
     "execution_count": 8,
     "metadata": {},
     "output_type": "execute_result"
    },
    {
     "data": {
      "image/png": "[encoded data removed]",
      "text/plain": [
       "<Figure size 432x288 with 1 Axes>"
      ]
     },
     "metadata": {
      "needs_background": "light"
     },
     "output_type": "display_data"
    }
   ],
   "source": [
    "from sklearn.manifold import TSNE\n",
    "import matplotlib.pyplot as plt\n",
    "color_list = [\"red\",  \"blue\"]\n",
    "\n",
    "#loader = DataLoader(dataset, batch_size=64, shuffle=True)\n",
    "embs = []\n",
    "colors = []\n",
    "for data in test_loader:\n",
    "    emb, pred = model(data.x, data.edge_index, data.batch)\n",
    "    embs.append(emb)\n",
    "    colors += [color_list[y-1] for y in data.y] # True label에 해당하는 color 선\n",
    "embs = torch.cat(embs, dim=0)\n",
    "\n",
    "xs, ys = zip(*TSNE().fit_transform(embs.detach().numpy()))\n",
    "plt.scatter(xs, ys, color=colors)"
   ]
  },
  {
   "cell_type": "code",
   "execution_count": 9,
   "metadata": {},
   "outputs": [
    {
     "data": {
      "text/plain": [
       "0.796875"
      ]
     },
     "execution_count": 9,
     "metadata": {},
     "output_type": "execute_result"
    }
   ],
   "source": [
    "test_acc"
   ]
  },
  {
   "cell_type": "code",
   "execution_count": 10,
   "metadata": {},
   "outputs": [
    {
     "name": "stdout",
     "output_type": "stream",
     "text": [
      "GNN(\n",
      "  (conv1): GraphConv(10, 64)\n",
      "  (conv2): GraphConv(64, 64)\n",
      "  (conv3): GraphConv(64, 3)\n",
      "  (lin): Linear(in_features=3, out_features=2, bias=True)\n",
      ")\n"
     ]
    }
   ],
   "source": [
    "from torch_geometric.nn import GraphConv\n",
    "\n",
    "\n",
    "class GNN(torch.nn.Module):\n",
    "    def __init__(self, hidden_channels):\n",
    "        super(GNN, self).__init__()\n",
    "        torch.manual_seed(12345)\n",
    "        self.conv1 = GraphConv(dataset.num_node_features, hidden_channels)\n",
    "        self.conv2 = GraphConv(hidden_channels, hidden_channels)\n",
    "        self.conv3 = GraphConv(hidden_channels, 3)\n",
    "        self.lin = Linear(3, dataset.num_classes)\n",
    "\n",
    "    def forward(self, x, edge_index, batch):\n",
    "        x = self.conv1(x, edge_index)\n",
    "        x = x.relu()\n",
    "        x = self.conv2(x, edge_index)\n",
    "        x = x.relu()\n",
    "        x = self.conv3(x, edge_index)\n",
    "\n",
    "        x = global_mean_pool(x, batch)\n",
    "        emb = x \n",
    "        x = F.dropout(x, p=0.5, training=self.training)\n",
    "        x = self.lin(x)\n",
    "        \n",
    "        return emb, x\n",
    "\n",
    "model = GNN(hidden_channels=64)\n",
    "print(model)"
   ]
  },
  {
   "cell_type": "code",
   "execution_count": 11,
   "metadata": {},
   "outputs": [
    {
     "name": "stdout",
     "output_type": "stream",
     "text": [
      "GNN(\n",
      "  (conv1): GraphConv(10, 64)\n",
      "  (conv2): GraphConv(64, 64)\n",
      "  (conv3): GraphConv(64, 3)\n",
      "  (lin): Linear(in_features=3, out_features=2, bias=True)\n",
      ")\n",
      "Epoch: 001, Train Acc: 0.4600\n",
      "Epoch: 002, Train Acc: 0.5120\n",
      "Epoch: 003, Train Acc: 0.4320\n",
      "Epoch: 004, Train Acc: 0.5560\n",
      "Epoch: 005, Train Acc: 0.6080\n",
      "Epoch: 006, Train Acc: 0.6320\n",
      "Epoch: 007, Train Acc: 0.6600\n",
      "Epoch: 008, Train Acc: 0.7480\n",
      "Epoch: 009, Train Acc: 0.8120\n",
      "Epoch: 010, Train Acc: 0.7840\n",
      "Epoch: 011, Train Acc: 0.8200\n",
      "Epoch: 012, Train Acc: 0.8240\n",
      "Epoch: 013, Train Acc: 0.8240\n",
      "Epoch: 014, Train Acc: 0.8360\n",
      "Epoch: 015, Train Acc: 0.8160\n",
      "Epoch: 016, Train Acc: 0.8160\n",
      "Epoch: 017, Train Acc: 0.8200\n",
      "Epoch: 018, Train Acc: 0.8200\n",
      "Epoch: 019, Train Acc: 0.8320\n",
      "Epoch: 020, Train Acc: 0.8240\n",
      "Epoch: 021, Train Acc: 0.7880\n",
      "Epoch: 022, Train Acc: 0.8160\n",
      "Epoch: 023, Train Acc: 0.7840\n",
      "Epoch: 024, Train Acc: 0.8160\n",
      "Epoch: 025, Train Acc: 0.8200\n",
      "Epoch: 026, Train Acc: 0.7840\n",
      "Epoch: 027, Train Acc: 0.8240\n",
      "Epoch: 028, Train Acc: 0.8400\n",
      "Epoch: 029, Train Acc: 0.8280\n",
      "Epoch: 030, Train Acc: 0.8240\n",
      "Epoch: 031, Train Acc: 0.8400\n",
      "Epoch: 032, Train Acc: 0.8160\n",
      "Epoch: 033, Train Acc: 0.8360\n",
      "Epoch: 034, Train Acc: 0.8320\n",
      "Epoch: 035, Train Acc: 0.8280\n",
      "Epoch: 036, Train Acc: 0.8360\n",
      "Epoch: 037, Train Acc: 0.8480\n",
      "Epoch: 038, Train Acc: 0.8400\n",
      "Epoch: 039, Train Acc: 0.8400\n",
      "Epoch: 040, Train Acc: 0.8360\n",
      "Epoch: 041, Train Acc: 0.8240\n",
      "Epoch: 042, Train Acc: 0.8560\n",
      "Epoch: 043, Train Acc: 0.8440\n",
      "Epoch: 044, Train Acc: 0.8400\n",
      "Epoch: 045, Train Acc: 0.8520\n",
      "Epoch: 046, Train Acc: 0.8520\n",
      "Epoch: 047, Train Acc: 0.8480\n",
      "Epoch: 048, Train Acc: 0.8640\n",
      "Epoch: 049, Train Acc: 0.8560\n",
      "Epoch: 050, Train Acc: 0.8560\n",
      "Epoch: 051, Train Acc: 0.8600\n",
      "Epoch: 052, Train Acc: 0.8640\n",
      "Epoch: 053, Train Acc: 0.8600\n",
      "Epoch: 054, Train Acc: 0.8480\n",
      "Epoch: 055, Train Acc: 0.8640\n",
      "Epoch: 056, Train Acc: 0.8840\n",
      "Epoch: 057, Train Acc: 0.8560\n",
      "Epoch: 058, Train Acc: 0.8560\n",
      "Epoch: 059, Train Acc: 0.8680\n",
      "Epoch: 060, Train Acc: 0.8720\n"
     ]
    }
   ],
   "source": [
    "model = GNN(hidden_channels=64)\n",
    "print(model)\n",
    "optimizer = torch.optim.Adam(model.parameters(), lr=0.01)\n",
    "\n",
    "for epoch in range(1, 61):\n",
    "    train()\n",
    "    train_acc = test(train_loader)\n",
    "    ##test_acc = test(test_loader)\n",
    "    print(f'Epoch: {epoch:03d}, Train Acc: {train_acc:.4f}')##, Test Acc: {test_acc:.4f}')"
   ]
  },
  {
   "cell_type": "code",
   "execution_count": 12,
   "metadata": {},
   "outputs": [
    {
     "data": {
      "text/plain": [
       "<matplotlib.collections.PathCollection at 0x1ef97105d30>"
      ]
     },
     "execution_count": 12,
     "metadata": {},
     "output_type": "execute_result"
    },
    {
     "data": {
      "image/png": "[encoded data removed]",
      "text/plain": [
       "<Figure size 432x288 with 1 Axes>"
      ]
     },
     "metadata": {
      "needs_background": "light"
     },
     "output_type": "display_data"
    }
   ],
   "source": [
    "from sklearn.manifold import TSNE\n",
    "import matplotlib.pyplot as plt\n",
    "color_list = [\"red\",  \"blue\"]\n",
    "\n",
    "#loader = DataLoader(dataset, batch_size=64, shuffle=True)\n",
    "embs = []\n",
    "colors = []\n",
    "for data in test_loader:\n",
    "    emb, pred = model(data.x, data.edge_index, data.batch)\n",
    "    embs.append(emb)\n",
    "    colors += [color_list[y-1] for y in data.y] # True label에 해당하는 color 선\n",
    "embs = torch.cat(embs, dim=0)\n",
    "\n",
    "xs, ys = zip(*TSNE().fit_transform(embs.detach().numpy()))\n",
    "plt.scatter(xs, ys, color=colors)"
   ]
  },
  {
   "cell_type": "code",
   "execution_count": 13,
   "metadata": {},
   "outputs": [
    {
     "data": {
      "text/plain": [
       "0.796875"
      ]
     },
     "execution_count": 13,
     "metadata": {},
     "output_type": "execute_result"
    }
   ],
   "source": [
    "test_acc"
   ]
  }
 ],
 "metadata": {
  "kernelspec": {
   "display_name": "Python 3",
   "language": "python",
   "name": "python3"
  },
  "language_info": {
   "codemirror_mode": {
    "name": "ipython",
    "version": 3
   },
   "file_extension": ".py",
   "mimetype": "text/x-python",
   "name": "python",
   "nbconvert_exporter": "python",
   "pygments_lexer": "ipython3",
   "version": "3.8.5"
  }
 },
 "nbformat": 4,
 "nbformat_minor": 4
}
